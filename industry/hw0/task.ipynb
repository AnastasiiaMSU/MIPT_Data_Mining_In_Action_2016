{
 "cells": [
  {
   "cell_type": "code",
   "execution_count": null,
   "metadata": {
    "collapsed": true
   },
   "outputs": [],
   "source": [
    "# from collections import OrderedDict\n",
    "from collections import Counter\n",
    "import numpy as np\n",
    "import pandas\n",
    "import heapq\n",
    "\n",
    "visit_popularity = Counter()\n",
    "purchase_popularity = Counter()\n",
    "\n",
    "with open('train.txt', 'r') as f:\n",
    "    for line in f.readlines():\n",
    "        visits, purchases = line.strip().split(';')\n",
    "        for v in visits.split(\",\"):\n",
    "            if v.strip() != '':\n",
    "                visit_popularity[v] += 1\n",
    "        for p in purchases.split(\",\"):\n",
    "            if p.strip() != '':\n",
    "                purchase_popularity[p] += 1\n",
    "\n",
    "def recommend_by_purchase(items, max_count):\n",
    "    return heapq.nlargest(max_count, OrderedDict.fromkeys(items), key=lambda x: purchase_popularity.get(x, 0))\n",
    "\n",
    "def recommend_by_visit(items, max_count):\n",
    "    return heapq.nlargest(max_count, OrderedDict.fromkeys(items), key=lambda x: visit_popularity.get(x, 0))\n",
    "\n",
    "def calculate_metrics(recommend, max_count, sessions_file):\n",
    "    with open(sessions_file, 'r') as f:\n",
    "        avg_recall = np.zeros(max_count)\n",
    "        avg_precision = np.zeros(max_count)\n",
    "        sessions_count = 0\n",
    "        for line in f.readlines():\n",
    "            visits, purchases = line.strip().split(';')\n",
    "            if purchases != '':\n",
    "                visits = visits.split(',')\n",
    "                purchases = purchases.split(',')\n",
    "                rec = recommend(visits, max_count)\n",
    "                \n",
    "                avg_recall[len(rec)-1] += len(set(purchases).intersection(rec)) / len(purchases)\n",
    "                avg_precision[len(rec)-1] += len(set(purchases).intersection(rec)) / len(rec)\n",
    "                sessions_count += 1\n",
    "\n",
    "    return pandas.DataFrame({\n",
    "            'k': np.arange(max_count) + 1,\n",
    "            'avg_recall@k': [round(x, 2) for x in avg_recall / sessions_count],\n",
    "            'avg_precision@k': [round(x, 2) for x in avg_precision / sessions_count]\n",
    "    }).set_index('k')\n",
    "\n",
    "print(calculate_metrics(recommend_by_purchase, 5, 'train.txt'))\n",
    "print(calculate_metrics(recommend_by_purchase, 5, 'test.txt'))\n",
    "print(calculate_metrics(recommend_by_visit, 5, 'train.txt'))\n",
    "print(calculate_metrics(recommend_by_visit, 5, 'test.txt'))\n",
    "    \n"
   ]
  },
  {
   "cell_type": "code",
   "execution_count": null,
   "metadata": {
    "collapsed": true
   },
   "outputs": [],
   "source": []
  },
  {
   "cell_type": "code",
   "execution_count": null,
   "metadata": {
    "collapsed": true
   },
   "outputs": [],
   "source": []
  },
  {
   "cell_type": "code",
   "execution_count": null,
   "metadata": {
    "collapsed": true
   },
   "outputs": [],
   "source": []
  }
 ],
 "metadata": {
  "anaconda-cloud": {},
  "kernelspec": {
   "display_name": "Python [conda root]",
   "language": "python",
   "name": "conda-root-py"
  },
  "language_info": {
   "codemirror_mode": {
    "name": "ipython",
    "version": 3
   },
   "file_extension": ".py",
   "mimetype": "text/x-python",
   "name": "python",
   "nbconvert_exporter": "python",
   "pygments_lexer": "ipython3",
   "version": "3.5.2"
  }
 },
 "nbformat": 4,
 "nbformat_minor": 1
}
